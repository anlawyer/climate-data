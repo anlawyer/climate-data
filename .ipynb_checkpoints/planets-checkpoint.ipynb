{
 "cells": [
  {
   "cell_type": "code",
   "execution_count": 8,
   "id": "d628f49e-4827-4f54-afc2-ff79774e2ab5",
   "metadata": {},
   "outputs": [
    {
     "name": "stdout",
     "output_type": "stream",
     "text": [
      "8\n",
      "['mercury', 'venus', 'earth', 'mars']\n",
      "venus\n",
      "mars\n",
      "uranus\n"
     ]
    }
   ],
   "source": [
    "planets = [\"mercury\", \"venus\", \"earth\", \"mars\", \"jupiter\", \"saturn\", \"uranus\", \"neptune\"]\n",
    "\n",
    "print(len(planets))\n",
    "\n",
    "print(planets[0:4])\n",
    "\n",
    "for planet in planets:\n",
    "    if planet[-1] == \"s\":\n",
    "        print(planet)"
   ]
  },
  {
   "cell_type": "code",
   "execution_count": 25,
   "id": "45fd6451-ba0e-4bf9-973a-559e8334d150",
   "metadata": {},
   "outputs": [
    {
     "name": "stdout",
     "output_type": "stream",
     "text": [
      "5.97\n",
      "['jupiter', 'saturn', 'neptune']\n",
      "{'mercury': 0.33, 'venus': 4.87, 'earth': 5.97, 'mars': 0.642, 'jupiter': 1898, 'saturn': 568, 'uranus': 86.8, 'neptune': 102, 'pluto': 0.013}\n"
     ]
    }
   ],
   "source": [
    "planet_mass_data = {\"mercury\": 0.330, \n",
    "               \"venus\": 4.87, \n",
    "               \"earth\": 5.97, \n",
    "               \"mars\": 0.642, \n",
    "               \"jupiter\": 1898, \n",
    "               \"saturn\": 568, \n",
    "               \"uranus\": 86.8, \n",
    "               \"neptune\": 102\n",
    "              }\n",
    "print(planet_data['earth'])\n",
    "\n",
    "massive = []\n",
    "for planet in planet_mass_data:\n",
    "    if planet_mass_data[planet] > 100:\n",
    "        massive.append(planet)\n",
    "\n",
    "print(massive)\n",
    "\n",
    "planet_mass_data[\"pluto\"] = 0.0130\n",
    "\n",
    "print(planet_mass_data)"
   ]
  },
  {
   "cell_type": "code",
   "execution_count": 81,
   "id": "f10b1d00-25ff-441c-a314-b0bbbaf83e63",
   "metadata": {},
   "outputs": [
    {
     "name": "stdout",
     "output_type": "stream",
     "text": [
      "100.0\n"
     ]
    }
   ],
   "source": [
    "def KtoC(k: int) -> float:\n",
    "    return k - 273.15\n",
    "\n",
    "def CtoK(c: int) -> float:\n",
    "    return c + 273.15\n",
    "\n",
    "def tempToF(temp: int, input_scale = \"C\") -> float:\n",
    "    if input_scale == \"K\":\n",
    "        return KtoC(temp) * (9/5) + 32\n",
    "    return temp * (9/5) + 32\n",
    "\n",
    "def tempFromF(temp: int, output_scale = \"C\") -> float:\n",
    "    if output_scale == \"K\":\n",
    "        return (temp - 32) * (5/9) + 273.15\n",
    "    return (temp - 32) * (5/9)\n",
    "\n",
    "print(tempFromF(212))"
   ]
  },
  {
   "cell_type": "code",
   "execution_count": 84,
   "id": "b41079ab-294a-48f2-b7a7-70c55ff7477f",
   "metadata": {},
   "outputs": [
    {
     "name": "stdout",
     "output_type": "stream",
     "text": [
      "10.00762001524003\n",
      "(32, 10)\n"
     ]
    }
   ],
   "source": [
    "def feetToMeters(feet: int, inches: int) -> float:\n",
    "    totalInches = (feet * 12) + inches\n",
    "    return totalInches / 39.37\n",
    "\n",
    "print(feetToMeters(32, 10))\n",
    "\n",
    "def metersToFeet(meters: int):\n",
    "    totalInches = meters * 39.37\n",
    "    totalFeet = totalInches // 12\n",
    "    remainderInches = totalInches % 12\n",
    "    return round(totalFeet), round(remainderInches)\n",
    "\n",
    "print(metersToFeet(10))"
   ]
  }
 ],
 "metadata": {
  "kernelspec": {
   "display_name": "Python 3 (ipykernel)",
   "language": "python",
   "name": "python3"
  },
  "language_info": {
   "codemirror_mode": {
    "name": "ipython",
    "version": 3
   },
   "file_extension": ".py",
   "mimetype": "text/x-python",
   "name": "python",
   "nbconvert_exporter": "python",
   "pygments_lexer": "ipython3",
   "version": "3.12.7"
  }
 },
 "nbformat": 4,
 "nbformat_minor": 5
}
